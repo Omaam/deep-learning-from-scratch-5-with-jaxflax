{
  "cells": [
    {
      "cell_type": "markdown",
      "metadata": {
        "id": "view-in-github",
        "colab_type": "text"
      },
      "source": [
        "<a href=\"https://colab.research.google.com/github/Omaam/deep-learning-from-scratch-5-with-jaxflax/blob/main/notebooks/vae.ipynb\" target=\"_parent\"><img src=\"https://colab.research.google.com/assets/colab-badge.svg\" alt=\"Open In Colab\"/></a>"
      ]
    },
    {
      "cell_type": "markdown",
      "metadata": {
        "id": "qYFkNd0_an7c"
      },
      "source": [
        "# 変分オートエンコーダー（VAE）\n",
        "\n",
        "ここでは jax/flax を用いて変分オートエンコーダー（VAE）を作成する。"
      ]
    },
    {
      "cell_type": "markdown",
      "metadata": {
        "id": "wb6-_eOja5zU"
      },
      "source": [
        "## Imports"
      ]
    },
    {
      "cell_type": "code",
      "execution_count": 1,
      "metadata": {
        "id": "driBrFrJaIPv"
      },
      "outputs": [],
      "source": [
        "from pprint import pprint\n",
        "\n",
        "import matplotlib.pyplot as plt\n",
        "import numpy as np\n",
        "\n",
        "import jax\n",
        "from jax import numpy as jnp\n",
        "from jax import random\n",
        "import flax\n",
        "from flax import linen as nn\n",
        "from flax.training import train_state\n",
        "import optax"
      ]
    },
    {
      "cell_type": "markdown",
      "metadata": {
        "id": "lQKQ7phMJ6PD"
      },
      "source": [
        "## データ"
      ]
    },
    {
      "cell_type": "markdown",
      "metadata": {
        "id": "1UaJ2-o8N_4o"
      },
      "source": [
        "ここでは`tensorflow.keras.datasets` を用いてダウンロードした MNIST を用いることにする。"
      ]
    },
    {
      "cell_type": "code",
      "execution_count": 2,
      "metadata": {
        "id": "bPhewR8-J9sN"
      },
      "outputs": [],
      "source": [
        "from tensorflow.keras.datasets import mnist\n",
        "\n",
        "\n",
        "(train_images, train_labels), (test_images, test_labels) = mnist.load_data()\n",
        "train_images = train_images.reshape([-1, 784]).astype('float32') / 255\n",
        "test_images = test_images.reshape([-1, 784]).astype('float32') / 255\n",
        "train_labels = np.eye(10)[train_labels]\n",
        "test_labels = np.eye(10)[test_labels]\n",
        "\n",
        "train_images = train_images\n",
        "test_images = test_images"
      ]
    },
    {
      "cell_type": "code",
      "execution_count": 3,
      "metadata": {
        "colab": {
          "base_uri": "https://localhost:8080/",
          "height": 430
        },
        "id": "aAbguG9shtQF",
        "outputId": "7f0bb255-fdce-4702-adf3-22e1ff923eee"
      },
      "outputs": [
        {
          "output_type": "display_data",
          "data": {
            "text/plain": [
              "<Figure size 640x480 with 1 Axes>"
            ],
            "image/png": "[encoded data removed]"
          },
          "metadata": {}
        }
      ],
      "source": [
        "train_images_original = train_images.reshape(-1, 28, 28)\n",
        "\n",
        "plt.imshow(train_images_original[0],\n",
        "           vmin=0, vmax=1, cmap=plt.cm.gray_r)\n",
        "plt.show()"
      ]
    },
    {
      "cell_type": "markdown",
      "metadata": {
        "id": "y6TMRlUZbYEf"
      },
      "source": [
        "## モデル"
      ]
    },
    {
      "cell_type": "code",
      "execution_count": 4,
      "metadata": {
        "id": "8FA7PKE-PwOe"
      },
      "outputs": [],
      "source": [
        "class Encoder(nn.Module):\n",
        "    hidden_dim: int\n",
        "    latent_dim: int\n",
        "\n",
        "    @nn.compact\n",
        "    def __call__(self, x):\n",
        "        x = nn.Dense(self.hidden_dim, name='Dense1')(x)\n",
        "        x = nn.relu(x)\n",
        "        mu = nn.Dense(self.latent_dim, name='Dense_mu')(x)\n",
        "        logvar = nn.Dense(self.latent_dim, name='Dense_logvar')(x)\n",
        "        sigma = jnp.exp(0.5 * logvar)\n",
        "        return mu, sigma\n",
        "\n",
        "\n",
        "class Decoder(nn.Module):\n",
        "    hidden_dim: int\n",
        "    output_dim: int\n",
        "\n",
        "    @nn.compact\n",
        "    def __call__(self, x):\n",
        "        x = nn.Dense(self.hidden_dim, name='Dense1')(x)\n",
        "        x = nn.relu(x)\n",
        "        x = nn.Dense(self.output_dim, name='Dense2')(x)\n",
        "        x = nn.sigmoid(x)\n",
        "        return x\n",
        "\n",
        "\n",
        "def reparameterize(mu, sigma):\n",
        "    eps = np.random.randn(*sigma.shape)\n",
        "    x = mu + eps * sigma\n",
        "    return x\n",
        "\n",
        "\n",
        "class VAE(nn.Module):\n",
        "    hidden_dim: int = 200\n",
        "    latent_dim: int = 20\n",
        "\n",
        "    @nn.compact\n",
        "    def __call__(self, x):\n",
        "        input_shape = x.shape[-1]\n",
        "        mu, sigma = Encoder(self.hidden_dim, self.latent_dim)(x)\n",
        "        x = reparameterize(mu, sigma)\n",
        "        x = Decoder(hidden_dim=self.hidden_dim, output_dim=input_shape)(x)\n",
        "        return x"
      ]
    },
    {
      "cell_type": "code",
      "execution_count": 5,
      "metadata": {
        "colab": {
          "base_uri": "https://localhost:8080/"
        },
        "id": "c3KaF00knll0",
        "outputId": "91e0d64e-c280-4992-99b5-4281add44d5b"
      },
      "outputs": [
        {
          "output_type": "execute_result",
          "data": {
            "text/plain": [
              "(784,)"
            ]
          },
          "metadata": {},
          "execution_count": 5
        }
      ],
      "source": [
        "#@title Tests\n",
        "\n",
        "x_dammy = train_images[0]\n",
        "x_hat = VAE().apply(\n",
        "    {'params': VAE().init(random.PRNGKey(0), x_dammy)['params']}, x_dammy\n",
        ")\n",
        "x_hat.shape"
      ]
    },
    {
      "cell_type": "markdown",
      "metadata": {
        "id": "PrsOxWFdQmV8"
      },
      "source": [
        "## パラメータ推定"
      ]
    },
    {
      "cell_type": "code",
      "execution_count": 6,
      "metadata": {
        "id": "6MVsIdGLP6vG"
      },
      "outputs": [],
      "source": [
        "learning_rate = 3e-4\n",
        "\n",
        "key, key1 = random.split(random.PRNGKey(0), 2)\n",
        "variables = VAE().init(key1, train_images[0])\n",
        "\n",
        "state = train_state.TrainState.create(\n",
        "    apply_fn=VAE().apply,\n",
        "    params=variables['params'],\n",
        "    tx=optax.adam(learning_rate=learning_rate)\n",
        ")\n",
        "\n",
        "\n",
        "def create_batches(data, batch_size):\n",
        "    num_batches, mod = divmod(len(data), batch_size)\n",
        "    data_batched = np.split(data[:num_batches*batch_size], num_batches)\n",
        "    if mod:\n",
        "        data_batched.append(data[num_batches*batch_size:])\n",
        "    data_batched = [jnp.asarray(x) for x in data_batched]\n",
        "    return data_batched\n",
        "\n",
        "\n",
        "@jax.jit\n",
        "def loss_fn(params, state, inputs, labels):\n",
        "    predictions = state.apply_fn({'params': params}, inputs)\n",
        "    loss = optax.l2_loss(predictions, inputs).mean()\n",
        "    return loss\n",
        "\n",
        "\n",
        "@jax.jit\n",
        "def train_step(state, inputs, labels):\n",
        "    '''パラメータの修正を１回だけ行う。\n",
        "    '''\n",
        "    loss, grads = jax.value_and_grad(loss_fn)(\n",
        "        state.params, state, inputs, labels)\n",
        "    new_state = state.apply_gradients(grads=grads)\n",
        "    return new_state, loss\n",
        "\n",
        "\n",
        "def train_epoch(state, input_batched, label_batched, eval=False):\n",
        "    loss_history = []\n",
        "    for inputs, labels in zip(input_batched, label_batched):\n",
        "        # print(inputs.shape, labels.shape)\n",
        "        new_state, loss = train_step(state, inputs, labels)\n",
        "        loss_history.append(jax.device_get(loss).tolist())\n",
        "    if eval:\n",
        "        return state, np.mean(loss_history)\n",
        "    else:\n",
        "        return new_state, np.mean(loss_history)\n",
        "\n",
        "\n",
        "def fit(state, train_inputs, train_labels, test_inputs, test_labels,\n",
        "        epochs, batch_size):\n",
        "\n",
        "    train_inputs_batched = create_batches(train_inputs, batch_size)\n",
        "    train_labels_batched = create_batches(train_labels, batch_size)\n",
        "    test_inputs_batched = create_batches(test_inputs, batch_size)\n",
        "    test_labels_batched= create_batches(test_labels, batch_size)\n",
        "\n",
        "    loss_history_train = []\n",
        "    loss_history_test = []\n",
        "\n",
        "    for epoch in range(1, epochs+1):\n",
        "\n",
        "        # Training\n",
        "        state, loss_train = train_epoch(\n",
        "            state, train_inputs_batched, train_labels_batched\n",
        "        )\n",
        "        loss_history_train.append(loss_train)\n",
        "\n",
        "        # Evaluation\n",
        "        _, loss_test = train_epoch(\n",
        "            state, test_inputs_batched, test_labels_batched, eval=True\n",
        "        )\n",
        "        loss_history_test.append(loss_test)\n",
        "\n",
        "        print(\n",
        "            'Epoch (Train): {}, Loss: {:.4f} | '.format(\n",
        "                epoch, loss_train),\n",
        "            end='', flush=True\n",
        "        )\n",
        "        print(\n",
        "            'Epoch (Test): {}, Loss: {:.4f} | '.format(\n",
        "                epoch, loss_test),\n",
        "            flush=True\n",
        "        )\n",
        "\n",
        "    history = {'loss_train': loss_history_train,\n",
        "               'loss_test': loss_history_test}\n",
        "\n",
        "    return state, history"
      ]
    },
    {
      "cell_type": "code",
      "execution_count": 7,
      "metadata": {
        "colab": {
          "base_uri": "https://localhost:8080/"
        },
        "id": "I7pCBxmPoZAt",
        "outputId": "a6dfbb85-5630-4475-fbd8-c10505952564"
      },
      "outputs": [
        {
          "output_type": "stream",
          "name": "stdout",
          "text": [
            "Epoch (Train): 1, Loss: 0.1316 | Epoch (Test): 1, Loss: 0.1288 | \n",
            "Epoch (Train): 2, Loss: 0.1287 | Epoch (Test): 2, Loss: 0.1261 | \n",
            "Epoch (Train): 3, Loss: 0.1260 | Epoch (Test): 3, Loss: 0.1236 | \n",
            "Epoch (Train): 4, Loss: 0.1235 | Epoch (Test): 4, Loss: 0.1211 | \n",
            "Epoch (Train): 5, Loss: 0.1211 | Epoch (Test): 5, Loss: 0.1189 | \n",
            "Epoch (Train): 6, Loss: 0.1188 | Epoch (Test): 6, Loss: 0.1167 | \n",
            "Epoch (Train): 7, Loss: 0.1166 | Epoch (Test): 7, Loss: 0.1146 | \n",
            "Epoch (Train): 8, Loss: 0.1145 | Epoch (Test): 8, Loss: 0.1125 | \n",
            "Epoch (Train): 9, Loss: 0.1124 | Epoch (Test): 9, Loss: 0.1106 | \n",
            "Epoch (Train): 10, Loss: 0.1105 | Epoch (Test): 10, Loss: 0.1086 | \n",
            "Epoch (Train): 11, Loss: 0.1085 | Epoch (Test): 11, Loss: 0.1066 | \n",
            "Epoch (Train): 12, Loss: 0.1065 | Epoch (Test): 12, Loss: 0.1047 | \n",
            "Epoch (Train): 13, Loss: 0.1046 | Epoch (Test): 13, Loss: 0.1027 | \n",
            "Epoch (Train): 14, Loss: 0.1026 | Epoch (Test): 14, Loss: 0.1007 | \n",
            "Epoch (Train): 15, Loss: 0.1006 | Epoch (Test): 15, Loss: 0.0987 | \n",
            "Epoch (Train): 16, Loss: 0.0986 | Epoch (Test): 16, Loss: 0.0966 | \n",
            "Epoch (Train): 17, Loss: 0.0965 | Epoch (Test): 17, Loss: 0.0945 | \n",
            "Epoch (Train): 18, Loss: 0.0944 | Epoch (Test): 18, Loss: 0.0923 | \n",
            "Epoch (Train): 19, Loss: 0.0922 | Epoch (Test): 19, Loss: 0.0901 | \n",
            "Epoch (Train): 20, Loss: 0.0900 | Epoch (Test): 20, Loss: 0.0879 | \n",
            "Epoch (Train): 21, Loss: 0.0878 | Epoch (Test): 21, Loss: 0.0856 | \n",
            "Epoch (Train): 22, Loss: 0.0855 | Epoch (Test): 22, Loss: 0.0833 | \n",
            "Epoch (Train): 23, Loss: 0.0832 | Epoch (Test): 23, Loss: 0.0810 | \n",
            "Epoch (Train): 24, Loss: 0.0809 | Epoch (Test): 24, Loss: 0.0787 | \n",
            "Epoch (Train): 25, Loss: 0.0786 | Epoch (Test): 25, Loss: 0.0765 | \n",
            "Epoch (Train): 26, Loss: 0.0764 | Epoch (Test): 26, Loss: 0.0742 | \n",
            "Epoch (Train): 27, Loss: 0.0741 | Epoch (Test): 27, Loss: 0.0720 | \n",
            "Epoch (Train): 28, Loss: 0.0719 | Epoch (Test): 28, Loss: 0.0698 | \n",
            "Epoch (Train): 29, Loss: 0.0697 | Epoch (Test): 29, Loss: 0.0677 | \n",
            "Epoch (Train): 30, Loss: 0.0676 | Epoch (Test): 30, Loss: 0.0657 | \n",
            "Epoch (Train): 31, Loss: 0.0655 | Epoch (Test): 31, Loss: 0.0637 | \n",
            "Epoch (Train): 32, Loss: 0.0635 | Epoch (Test): 32, Loss: 0.0618 | \n",
            "Epoch (Train): 33, Loss: 0.0616 | Epoch (Test): 33, Loss: 0.0599 | \n",
            "Epoch (Train): 34, Loss: 0.0597 | Epoch (Test): 34, Loss: 0.0582 | \n",
            "Epoch (Train): 35, Loss: 0.0580 | Epoch (Test): 35, Loss: 0.0565 | \n",
            "Epoch (Train): 36, Loss: 0.0563 | Epoch (Test): 36, Loss: 0.0549 | \n",
            "Epoch (Train): 37, Loss: 0.0547 | Epoch (Test): 37, Loss: 0.0534 | \n",
            "Epoch (Train): 38, Loss: 0.0531 | Epoch (Test): 38, Loss: 0.0520 | \n",
            "Epoch (Train): 39, Loss: 0.0517 | Epoch (Test): 39, Loss: 0.0506 | \n",
            "Epoch (Train): 40, Loss: 0.0503 | Epoch (Test): 40, Loss: 0.0493 | \n",
            "Epoch (Train): 41, Loss: 0.0490 | Epoch (Test): 41, Loss: 0.0481 | \n",
            "Epoch (Train): 42, Loss: 0.0478 | Epoch (Test): 42, Loss: 0.0469 | \n",
            "Epoch (Train): 43, Loss: 0.0466 | Epoch (Test): 43, Loss: 0.0458 | \n",
            "Epoch (Train): 44, Loss: 0.0455 | Epoch (Test): 44, Loss: 0.0448 | \n",
            "Epoch (Train): 45, Loss: 0.0445 | Epoch (Test): 45, Loss: 0.0439 | \n",
            "Epoch (Train): 46, Loss: 0.0436 | Epoch (Test): 46, Loss: 0.0430 | \n",
            "Epoch (Train): 47, Loss: 0.0427 | Epoch (Test): 47, Loss: 0.0422 | \n",
            "Epoch (Train): 48, Loss: 0.0419 | Epoch (Test): 48, Loss: 0.0415 | \n",
            "Epoch (Train): 49, Loss: 0.0412 | Epoch (Test): 49, Loss: 0.0408 | \n",
            "Epoch (Train): 50, Loss: 0.0405 | Epoch (Test): 50, Loss: 0.0402 | \n",
            "CPU times: user 3min 49s, sys: 43 s, total: 4min 32s\n",
            "Wall time: 3min 1s\n"
          ]
        }
      ],
      "source": [
        "%%time\n",
        "state, history = fit(state,\n",
        "                     train_images, train_images,  # 入力と出力は同一\n",
        "                     test_images, test_images,    # 入力と出力は同一\n",
        "                     epochs=50,\n",
        "                     batch_size=4096)"
      ]
    },
    {
      "cell_type": "code",
      "execution_count": 8,
      "metadata": {
        "colab": {
          "base_uri": "https://localhost:8080/",
          "height": 430
        },
        "id": "eP9ieMSndRaT",
        "outputId": "3ef1100d-c3f5-44b2-b111-75dd63d27fa3"
      },
      "outputs": [
        {
          "output_type": "display_data",
          "data": {
            "text/plain": [
              "<Figure size 640x480 with 1 Axes>"
            ],
            "image/png": "[encoded data removed]"
          },
          "metadata": {}
        }
      ],
      "source": [
        "plt.plot(history['loss_train'])\n",
        "plt.show()"
      ]
    }
  ],
  "metadata": {
    "accelerator": "GPU",
    "colab": {
      "collapsed_sections": [
        "wb6-_eOja5zU"
      ],
      "gpuType": "T4",
      "toc_visible": true,
      "provenance": [],
      "authorship_tag": "ABX9TyNlwh6mSJAMvpNWmabxyTXi",
      "include_colab_link": true
    },
    "kernelspec": {
      "display_name": "Python 3",
      "name": "python3"
    },
    "language_info": {
      "name": "python"
    }
  },
  "nbformat": 4,
  "nbformat_minor": 0
}