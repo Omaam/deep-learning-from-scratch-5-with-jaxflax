{
  "nbformat": 4,
  "nbformat_minor": 0,
  "metadata": {
    "colab": {
      "provenance": [],
      "gpuType": "T4",
      "authorship_tag": "ABX9TyM9WNyJkiVUuqIBg0jh7ab9",
      "include_colab_link": true
    },
    "kernelspec": {
      "name": "python3",
      "display_name": "Python 3"
    },
    "language_info": {
      "name": "python"
    },
    "accelerator": "GPU"
  },
  "cells": [
    {
      "cell_type": "markdown",
      "metadata": {
        "id": "view-in-github",
        "colab_type": "text"
      },
      "source": [
        "<a href=\"https://colab.research.google.com/github/Omaam/deep-learning-from-scratch-5-with-jaxflax/blob/main/notebooks/vae.ipynb\" target=\"_parent\"><img src=\"https://colab.research.google.com/assets/colab-badge.svg\" alt=\"Open In Colab\"/></a>"
      ]
    },
    {
      "cell_type": "markdown",
      "source": [
        "# 変分オートエンコーダー（VAE）\n",
        "\n",
        "ここでは jax/flax を用いて変分オートエンコーダー（VAE）を作成する。"
      ],
      "metadata": {
        "id": "qYFkNd0_an7c"
      }
    },
    {
      "cell_type": "markdown",
      "source": [
        "## Imports"
      ],
      "metadata": {
        "id": "wb6-_eOja5zU"
      }
    },
    {
      "cell_type": "code",
      "execution_count": 1,
      "metadata": {
        "id": "driBrFrJaIPv"
      },
      "outputs": [],
      "source": [
        "from pprint import pprint\n",
        "\n",
        "import numpy as np\n",
        "\n",
        "import jax\n",
        "from jax import numpy as jnp\n",
        "from jax import random\n",
        "import flax\n",
        "from flax import linen as nn\n",
        "from flax.training import train_state\n",
        "import optax"
      ]
    },
    {
      "cell_type": "markdown",
      "source": [
        "## データ"
      ],
      "metadata": {
        "id": "lQKQ7phMJ6PD"
      }
    },
    {
      "cell_type": "markdown",
      "source": [
        "ここでは`tensorflow.keras.datasets` を用いてダウンロードした MNIST を用いることにする。"
      ],
      "metadata": {
        "id": "1UaJ2-o8N_4o"
      }
    },
    {
      "cell_type": "code",
      "source": [
        "from tensorflow.keras.datasets import mnist\n",
        "\n",
        "\n",
        "(train_images, train_labels), (test_images, test_labels) = mnist.load_data()\n",
        "train_images = train_images.reshape([-1, 784]).astype('float32') / 255\n",
        "test_images = test_images.reshape([-1, 784]).astype('float32') / 255\n",
        "train_labels = np.eye(10)[train_labels]\n",
        "test_labels = np.eye(10)[test_labels]"
      ],
      "metadata": {
        "id": "bPhewR8-J9sN"
      },
      "execution_count": 2,
      "outputs": []
    },
    {
      "cell_type": "markdown",
      "source": [
        "## モデル構築\n"
      ],
      "metadata": {
        "id": "y6TMRlUZbYEf"
      }
    },
    {
      "cell_type": "code",
      "source": [
        "class Encoder(nn.Module):\n",
        "    hidden_dim: int = 512\n",
        "    latent_dim: int = 32\n",
        "\n",
        "    @nn.compact\n",
        "    def __call__(self, x):\n",
        "        x = nn.Dense(self.hidden_dim, name='Dense1')(x)\n",
        "        x = nn.relu(x)\n",
        "        mu = nn.Dense(self.latent_dim, name='Dense_mu')(x)\n",
        "        logvar = nn.Dense(self.latent_dim, name='Dense_logvar')(x)\n",
        "        sigma = jnp.exp(0.5 * logvar)\n",
        "        return mu, sigma\n",
        "\n",
        "\n",
        "class Decoder(nn.Module):\n",
        "    hidden_dim: int = 512\n",
        "    output_dim: int = 784\n",
        "\n",
        "    @nn.compact\n",
        "    def __call__(self, x):\n",
        "        x = nn.Dense(self.hidden_dim, name='Dense1')(x)\n",
        "        x = nn.relu(x)\n",
        "        x = nn.Dense(self.output_dim, name='Dense2')(x)\n",
        "        x = nn.sigmoid(x)\n",
        "        return x\n",
        "\n",
        "\n",
        "def reparameterize(mu, sigma):\n",
        "    eps = np.random.randn(*sigma.shape)\n",
        "    x = mu + eps * sigma\n",
        "    return x\n",
        "\n",
        "\n",
        "class VAE(nn.Module):\n",
        "    @nn.compact\n",
        "    def __call__(self, x):\n",
        "        mu, sigma = Encoder()(x)\n",
        "        x = reparameterize(mu, sigma)\n",
        "        x = Decoder()(x)\n",
        "        return x"
      ],
      "metadata": {
        "id": "8FA7PKE-PwOe"
      },
      "execution_count": 3,
      "outputs": []
    },
    {
      "cell_type": "markdown",
      "source": [
        "### パラメータ推定"
      ],
      "metadata": {
        "id": "PrsOxWFdQmV8"
      }
    },
    {
      "cell_type": "code",
      "source": [
        "key, key1 = random.split(random.PRNGKey(0), 2)\n",
        "variables = VAE().init(key1, train_images[0])\n",
        "\n",
        "state = train_state.TrainState.create(\n",
        "    apply_fn=VAE().apply,\n",
        "    params=variables['params'],\n",
        "    tx=optax.adam(learning_rate=0.001)\n",
        ")\n",
        "\n",
        "\n",
        "def create_batches(data, batch_size):\n",
        "    num_batches, mod = divmod(len(data), batch_size)\n",
        "    data_batched = np.split(data[:num_batches*batch_size], num_batches)\n",
        "    if mod:\n",
        "        data_batched.append(data[num_batches*batch_size:])\n",
        "    data_batched = [jnp.asarray(x) for x in data_batched]\n",
        "    return data_batched\n",
        "\n",
        "\n",
        "@jax.jit\n",
        "def loss_fn(params, state, inputs, labels):\n",
        "    predictions = state.apply_fn({'params': params}, inputs)\n",
        "    loss = optax.l2_loss(predictions, inputs).mean()\n",
        "    return loss\n",
        "\n",
        "\n",
        "@jax.jit\n",
        "def train_step(state, inputs, labels):\n",
        "    '''パラメータの修正を１回だけ行う。\n",
        "    '''\n",
        "    loss, grads = jax.value_and_grad(loss_fn)(\n",
        "        state.params, state, inputs, labels)\n",
        "    new_state = state.apply_gradients(grads=grads)\n",
        "    return new_state, loss\n",
        "\n",
        "\n",
        "def train_epoch(state, input_batched, label_batched):\n",
        "    loss_history = []\n",
        "    for inputs, labels in zip(input_batched, label_batched):\n",
        "        new_state, loss = train_step(state, inputs, labels)\n",
        "        loss_history.append(jax.device_get(loss).tolist())\n",
        "    return state, np.mean(loss_history)\n",
        "\n",
        "\n",
        "def fit(state, train_inputs, train_labels, test_inputs, test_labels,\n",
        "        epochs, batch_size):\n",
        "\n",
        "    train_inputs_batched = create_batches(train_inputs, batch_size)\n",
        "    train_labels_batched = create_batches(train_labels, batch_size)\n",
        "    test_inputs_batched = create_batches(test_inputs, batch_size)\n",
        "    test_labels_batched= create_batches(test_labels, batch_size)\n",
        "\n",
        "    loss_history_train = []\n",
        "    loss_history_test = []\n",
        "\n",
        "    for epoch in range(1, epochs+1):\n",
        "\n",
        "        # Training\n",
        "        state, loss_train = train_epoch(\n",
        "            state, train_inputs_batched, train_labels_batched\n",
        "        )\n",
        "        loss_history_train.append(loss_train)\n",
        "\n",
        "        # Evaluation\n",
        "        _, loss_test = train_epoch(\n",
        "            state, test_inputs_batched, test_labels_batched\n",
        "        )\n",
        "        loss_history_test.append(loss_test)\n",
        "\n",
        "        print(\n",
        "            'Epoch (Train): {}, Loss: {:.4f} | '.format(\n",
        "                epoch, loss_train),\n",
        "            end='', flush=True\n",
        "        )\n",
        "        print(\n",
        "            'Epoch (Test): {}, Loss: {:.4f} | '.format(\n",
        "                epoch, loss_test),\n",
        "            flush=True\n",
        "        )\n",
        "\n",
        "    history = {'loss_train': loss_history_train,\n",
        "               'loss_test': loss_history_test}\n",
        "\n",
        "    return state, history"
      ],
      "metadata": {
        "id": "6MVsIdGLP6vG"
      },
      "execution_count": 4,
      "outputs": []
    },
    {
      "cell_type": "code",
      "source": [
        "%%time\n",
        "state, history = fit(state,\n",
        "                     train_images, train_images,  # 入力と出力は同一\n",
        "                     test_images, test_images,    # 入力と出力は同一\n",
        "                     epochs=16,\n",
        "                     batch_size=128)"
      ],
      "metadata": {
        "colab": {
          "base_uri": "https://localhost:8080/"
        },
        "id": "I7pCBxmPoZAt",
        "outputId": "ac00f1a6-3e8c-47d8-d3d1-c7421b74e5dd"
      },
      "execution_count": 5,
      "outputs": [
        {
          "output_type": "stream",
          "name": "stdout",
          "text": [
            "Epoch (Train): 1, Loss: 0.1283 | Epoch (Test): 1, Loss: 0.1284 | \n",
            "Epoch (Train): 2, Loss: 0.1283 | Epoch (Test): 2, Loss: 0.1284 | \n",
            "Epoch (Train): 3, Loss: 0.1283 | Epoch (Test): 3, Loss: 0.1284 | \n",
            "Epoch (Train): 4, Loss: 0.1283 | Epoch (Test): 4, Loss: 0.1284 | \n",
            "Epoch (Train): 5, Loss: 0.1283 | Epoch (Test): 5, Loss: 0.1284 | \n",
            "Epoch (Train): 6, Loss: 0.1283 | Epoch (Test): 6, Loss: 0.1284 | \n",
            "Epoch (Train): 7, Loss: 0.1283 | Epoch (Test): 7, Loss: 0.1284 | \n",
            "Epoch (Train): 8, Loss: 0.1283 | Epoch (Test): 8, Loss: 0.1284 | \n",
            "Epoch (Train): 9, Loss: 0.1283 | Epoch (Test): 9, Loss: 0.1284 | \n",
            "Epoch (Train): 10, Loss: 0.1283 | Epoch (Test): 10, Loss: 0.1284 | \n",
            "Epoch (Train): 11, Loss: 0.1283 | Epoch (Test): 11, Loss: 0.1284 | \n",
            "Epoch (Train): 12, Loss: 0.1283 | Epoch (Test): 12, Loss: 0.1284 | \n",
            "Epoch (Train): 13, Loss: 0.1283 | Epoch (Test): 13, Loss: 0.1284 | \n",
            "Epoch (Train): 14, Loss: 0.1283 | Epoch (Test): 14, Loss: 0.1284 | \n",
            "Epoch (Train): 15, Loss: 0.1283 | Epoch (Test): 15, Loss: 0.1284 | \n",
            "Epoch (Train): 16, Loss: 0.1283 | Epoch (Test): 16, Loss: 0.1284 | \n",
            "CPU times: user 12 s, sys: 2.04 s, total: 14 s\n",
            "Wall time: 17 s\n"
          ]
        }
      ]
    },
    {
      "cell_type": "code",
      "source": [],
      "metadata": {
        "id": "eP9ieMSndRaT"
      },
      "execution_count": 5,
      "outputs": []
    }
  ]
}