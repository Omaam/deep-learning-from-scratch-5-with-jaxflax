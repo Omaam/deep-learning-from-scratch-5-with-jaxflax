{
  "cells": [
    {
      "cell_type": "markdown",
      "metadata": {
        "id": "view-in-github",
        "colab_type": "text"
      },
      "source": [
        "<a href=\"https://colab.research.google.com/github/Omaam/deep-learning-from-scratch-5-with-jaxflax/blob/main/notebooks/vae.ipynb\" target=\"_parent\"><img src=\"https://colab.research.google.com/assets/colab-badge.svg\" alt=\"Open In Colab\"/></a>"
      ]
    },
    {
      "cell_type": "markdown",
      "metadata": {
        "id": "qYFkNd0_an7c"
      },
      "source": [
        "# 変分オートエンコーダー（VAE）\n",
        "\n",
        "ここでは jax/flax を用いて変分オートエンコーダー（VAE）を作成する。"
      ]
    },
    {
      "cell_type": "markdown",
      "metadata": {
        "id": "wb6-_eOja5zU"
      },
      "source": [
        "## Imports"
      ]
    },
    {
      "cell_type": "code",
      "execution_count": 1,
      "metadata": {
        "id": "driBrFrJaIPv"
      },
      "outputs": [],
      "source": [
        "from pprint import pprint\n",
        "\n",
        "import matplotlib.pyplot as plt\n",
        "import numpy as np\n",
        "\n",
        "import jax\n",
        "from jax import numpy as jnp\n",
        "from jax import random\n",
        "import flax\n",
        "from flax import linen as nn\n",
        "from flax.training import train_state\n",
        "import optax"
      ]
    },
    {
      "cell_type": "markdown",
      "metadata": {
        "id": "lQKQ7phMJ6PD"
      },
      "source": [
        "## データ"
      ]
    },
    {
      "cell_type": "markdown",
      "metadata": {
        "id": "1UaJ2-o8N_4o"
      },
      "source": [
        "ここでは`tensorflow.keras.datasets` を用いてダウンロードした MNIST を用いることにする。"
      ]
    },
    {
      "cell_type": "code",
      "execution_count": 2,
      "metadata": {
        "id": "bPhewR8-J9sN"
      },
      "outputs": [],
      "source": [
        "from tensorflow.keras.datasets import mnist\n",
        "\n",
        "\n",
        "(train_images, train_labels), (test_images, test_labels) = mnist.load_data()\n",
        "train_images = train_images.reshape([-1, 784]).astype('float32') / 255\n",
        "test_images = test_images.reshape([-1, 784]).astype('float32') / 255\n",
        "train_labels = np.eye(10)[train_labels]\n",
        "test_labels = np.eye(10)[test_labels]\n",
        "\n",
        "train_images = train_images\n",
        "test_images = test_images"
      ]
    },
    {
      "cell_type": "code",
      "execution_count": 3,
      "metadata": {
        "colab": {
          "base_uri": "https://localhost:8080/",
          "height": 0
        },
        "id": "aAbguG9shtQF",
        "outputId": "8dd57621-d535-45a8-a5cd-581b98429e5b"
      },
      "outputs": [
        {
          "output_type": "display_data",
          "data": {
            "text/plain": [
              "<Figure size 640x480 with 1 Axes>"
            ],
            "image/png": "[encoded data removed]"
          },
          "metadata": {}
        }
      ],
      "source": [
        "train_images_original = train_images.reshape(-1, 28, 28)\n",
        "\n",
        "plt.imshow(train_images_original[0],\n",
        "           vmin=0, vmax=1, cmap=plt.cm.gray_r)\n",
        "plt.show()"
      ]
    },
    {
      "cell_type": "markdown",
      "metadata": {
        "id": "y6TMRlUZbYEf"
      },
      "source": [
        "## モデル"
      ]
    },
    {
      "cell_type": "code",
      "execution_count": 4,
      "metadata": {
        "id": "8FA7PKE-PwOe"
      },
      "outputs": [],
      "source": [
        "class Encoder(nn.Module):\n",
        "    hidden_dim: int\n",
        "    latent_dim: int\n",
        "\n",
        "    @nn.compact\n",
        "    def __call__(self, x):\n",
        "        x = nn.Dense(self.hidden_dim, name='Dense1')(x)\n",
        "        x = nn.relu(x)\n",
        "        mu = nn.Dense(self.latent_dim, name='Dense_mu')(x)\n",
        "        logvar = nn.Dense(self.latent_dim, name='Dense_logvar')(x)\n",
        "        sigma = jnp.exp(0.5 * logvar)\n",
        "        return mu, sigma\n",
        "\n",
        "\n",
        "class Decoder(nn.Module):\n",
        "    hidden_dim: int\n",
        "    output_dim: int\n",
        "\n",
        "    @nn.compact\n",
        "    def __call__(self, x):\n",
        "        x = nn.Dense(self.hidden_dim, name='Dense1')(x)\n",
        "        x = nn.relu(x)\n",
        "        x = nn.Dense(self.output_dim, name='Dense2')(x)\n",
        "        x = nn.sigmoid(x)\n",
        "        return x\n",
        "\n",
        "\n",
        "def reparameterize(mu, sigma):\n",
        "    eps = np.random.randn(*sigma.shape)\n",
        "    x = mu + eps * sigma\n",
        "    return x\n",
        "\n",
        "\n",
        "class VAE(nn.Module):\n",
        "    hidden_dim: int = 200\n",
        "    latent_dim: int = 20\n",
        "\n",
        "    @nn.compact\n",
        "    def __call__(self, x):\n",
        "        input_shape = x.shape[-1]\n",
        "        mu, sigma = Encoder(self.hidden_dim, self.latent_dim)(x)\n",
        "        x = reparameterize(mu, sigma)\n",
        "        x = Decoder(hidden_dim=self.hidden_dim, output_dim=input_shape)(x)\n",
        "        return x, mu, sigma"
      ]
    },
    {
      "cell_type": "code",
      "execution_count": 5,
      "metadata": {
        "colab": {
          "base_uri": "https://localhost:8080/"
        },
        "id": "c3KaF00knll0",
        "outputId": "c5a3face-79ae-40e4-a80e-f206d3d6e73b"
      },
      "outputs": [
        {
          "output_type": "execute_result",
          "data": {
            "text/plain": [
              "(784,)"
            ]
          },
          "metadata": {},
          "execution_count": 5
        }
      ],
      "source": [
        "#@title Tests\n",
        "\n",
        "x_dammy = train_images[0]\n",
        "x_hat, _, _ = VAE().apply(\n",
        "    {'params': VAE().init(random.PRNGKey(0), x_dammy)['params']}, x_dammy\n",
        ")\n",
        "x_hat.shape"
      ]
    },
    {
      "cell_type": "markdown",
      "metadata": {
        "id": "PrsOxWFdQmV8"
      },
      "source": [
        "## パラメータ推定"
      ]
    },
    {
      "cell_type": "code",
      "execution_count": 6,
      "metadata": {
        "id": "6MVsIdGLP6vG"
      },
      "outputs": [],
      "source": [
        "learning_rate = 3e-4\n",
        "\n",
        "key, key1 = random.split(random.PRNGKey(0), 2)\n",
        "variables = VAE().init(key1, train_images[0])\n",
        "\n",
        "state = train_state.TrainState.create(\n",
        "    apply_fn=VAE().apply,\n",
        "    params=variables['params'],\n",
        "    tx=optax.adam(learning_rate=learning_rate)\n",
        ")\n",
        "\n",
        "\n",
        "def create_batches(data, batch_size):\n",
        "    num_batches, mod = divmod(len(data), batch_size)\n",
        "    data_batched = np.split(data[:num_batches*batch_size], num_batches)\n",
        "    if mod:\n",
        "        data_batched.append(data[num_batches*batch_size:])\n",
        "    data_batched = [jnp.asarray(x) for x in data_batched]\n",
        "    return data_batched\n",
        "\n",
        "\n",
        "@jax.jit\n",
        "def loss_fn(params, state, inputs, labels):\n",
        "    predictions, mu, sigma = state.apply_fn({'params': params}, inputs)\n",
        "    batch_size = len(inputs)\n",
        "    loss_1 = optax.l2_loss(predictions, inputs).mean()\n",
        "    loss_2 = -0.5 * jnp.sum(1 + jnp.log(sigma**2) - mu**2 - sigma**2)\n",
        "    return (loss_1 + loss_2) / batch_size\n",
        "\n",
        "\n",
        "@jax.jit\n",
        "def train_step(state, inputs, labels):\n",
        "    '''パラメータの修正を１回だけ行う。\n",
        "    '''\n",
        "    loss, grads = jax.value_and_grad(loss_fn)(\n",
        "        state.params, state, inputs, labels)\n",
        "    new_state = state.apply_gradients(grads=grads)\n",
        "    return new_state, loss\n",
        "\n",
        "\n",
        "def train_epoch(state, input_batched, label_batched, eval):\n",
        "    loss_history = []\n",
        "    for inputs, labels in zip(input_batched, label_batched):\n",
        "        new_state, loss = train_step(state, inputs, labels)\n",
        "        if not eval:\n",
        "            state = new_state\n",
        "        loss_history.append(jax.device_get(loss).tolist())\n",
        "    return state, np.mean(loss_history)\n",
        "\n",
        "\n",
        "def fit(state, train_inputs, train_labels, test_inputs, test_labels,\n",
        "        epochs, batch_size):\n",
        "\n",
        "    train_inputs_batched = create_batches(train_inputs, batch_size)\n",
        "    train_labels_batched = create_batches(train_labels, batch_size)\n",
        "    test_inputs_batched = create_batches(test_inputs, batch_size)\n",
        "    test_labels_batched= create_batches(test_labels, batch_size)\n",
        "\n",
        "    loss_history_train = []\n",
        "    loss_history_test = []\n",
        "\n",
        "    for epoch in range(1, epochs+1):\n",
        "\n",
        "        # Training\n",
        "        state, loss_train = train_epoch(\n",
        "            state, train_inputs_batched, train_labels_batched, eval=False\n",
        "        )\n",
        "        loss_history_train.append(loss_train)\n",
        "\n",
        "        # Evaluation\n",
        "        _, loss_test = train_epoch(\n",
        "            state, test_inputs_batched, test_labels_batched, eval=True\n",
        "        )\n",
        "        loss_history_test.append(loss_test)\n",
        "\n",
        "        print(\n",
        "            'Epoch (Train): {}, Loss: {:.5f} | '.format(\n",
        "                epoch, loss_train),\n",
        "            end='', flush=True\n",
        "        )\n",
        "        print(\n",
        "            'Epoch (Test): {}, Loss: {:.5f} | '.format(\n",
        "                epoch, loss_test),\n",
        "            flush=True\n",
        "        )\n",
        "\n",
        "    history = {'loss_train': loss_history_train,\n",
        "               'loss_test': loss_history_test}\n",
        "\n",
        "    return state, history"
      ]
    },
    {
      "cell_type": "code",
      "execution_count": 7,
      "metadata": {
        "colab": {
          "base_uri": "https://localhost:8080/"
        },
        "id": "I7pCBxmPoZAt",
        "outputId": "09e23abc-1b7d-4210-8cdd-0e36af62d0df"
      },
      "outputs": [
        {
          "output_type": "stream",
          "name": "stdout",
          "text": [
            "Epoch (Train): 1, Loss: 0.45561 | Epoch (Test): 1, Loss: 0.24128 | \n",
            "Epoch (Train): 2, Loss: 0.19181 | Epoch (Test): 2, Loss: 0.13913 | \n",
            "Epoch (Train): 3, Loss: 0.11059 | Epoch (Test): 3, Loss: 0.08276 | \n",
            "Epoch (Train): 4, Loss: 0.06938 | Epoch (Test): 4, Loss: 0.05445 | \n",
            "Epoch (Train): 5, Loss: 0.04642 | Epoch (Test): 5, Loss: 0.03641 | \n",
            "Epoch (Train): 6, Loss: 0.03161 | Epoch (Test): 6, Loss: 0.02464 | \n",
            "Epoch (Train): 7, Loss: 0.02195 | Epoch (Test): 7, Loss: 0.01709 | \n",
            "Epoch (Train): 8, Loss: 0.01571 | Epoch (Test): 8, Loss: 0.01229 | \n",
            "Epoch (Train): 9, Loss: 0.01166 | Epoch (Test): 9, Loss: 0.00919 | \n",
            "Epoch (Train): 10, Loss: 0.00900 | Epoch (Test): 10, Loss: 0.00714 | \n",
            "Epoch (Train): 11, Loss: 0.00718 | Epoch (Test): 11, Loss: 0.00573 | \n",
            "Epoch (Train): 12, Loss: 0.00590 | Epoch (Test): 12, Loss: 0.00472 | \n",
            "Epoch (Train): 13, Loss: 0.00496 | Epoch (Test): 13, Loss: 0.00398 | \n",
            "Epoch (Train): 14, Loss: 0.00425 | Epoch (Test): 14, Loss: 0.00341 | \n",
            "Epoch (Train): 15, Loss: 0.00369 | Epoch (Test): 15, Loss: 0.00296 | \n",
            "Epoch (Train): 16, Loss: 0.00325 | Epoch (Test): 16, Loss: 0.00260 | \n",
            "Epoch (Train): 17, Loss: 0.00288 | Epoch (Test): 17, Loss: 0.00231 | \n",
            "Epoch (Train): 18, Loss: 0.00258 | Epoch (Test): 18, Loss: 0.00206 | \n",
            "Epoch (Train): 19, Loss: 0.00233 | Epoch (Test): 19, Loss: 0.00186 | \n",
            "Epoch (Train): 20, Loss: 0.00211 | Epoch (Test): 20, Loss: 0.00168 | \n",
            "Epoch (Train): 21, Loss: 0.00193 | Epoch (Test): 21, Loss: 0.00153 | \n",
            "Epoch (Train): 22, Loss: 0.00176 | Epoch (Test): 22, Loss: 0.00140 | \n",
            "Epoch (Train): 23, Loss: 0.00162 | Epoch (Test): 23, Loss: 0.00128 | \n",
            "Epoch (Train): 24, Loss: 0.00150 | Epoch (Test): 24, Loss: 0.00118 | \n",
            "Epoch (Train): 25, Loss: 0.00139 | Epoch (Test): 25, Loss: 0.00109 | \n",
            "Epoch (Train): 26, Loss: 0.00129 | Epoch (Test): 26, Loss: 0.00101 | \n",
            "Epoch (Train): 27, Loss: 0.00120 | Epoch (Test): 27, Loss: 0.00094 | \n",
            "Epoch (Train): 28, Loss: 0.00112 | Epoch (Test): 28, Loss: 0.00088 | \n",
            "Epoch (Train): 29, Loss: 0.00105 | Epoch (Test): 29, Loss: 0.00082 | \n",
            "Epoch (Train): 30, Loss: 0.00098 | Epoch (Test): 30, Loss: 0.00077 | \n",
            "Epoch (Train): 31, Loss: 0.00092 | Epoch (Test): 31, Loss: 0.00072 | \n",
            "Epoch (Train): 32, Loss: 0.00087 | Epoch (Test): 32, Loss: 0.00068 | \n",
            "Epoch (Train): 33, Loss: 0.00082 | Epoch (Test): 33, Loss: 0.00064 | \n",
            "Epoch (Train): 34, Loss: 0.00078 | Epoch (Test): 34, Loss: 0.00060 | \n",
            "Epoch (Train): 35, Loss: 0.00073 | Epoch (Test): 35, Loss: 0.00057 | \n",
            "Epoch (Train): 36, Loss: 0.00070 | Epoch (Test): 36, Loss: 0.00054 | \n",
            "Epoch (Train): 37, Loss: 0.00066 | Epoch (Test): 37, Loss: 0.00051 | \n",
            "Epoch (Train): 38, Loss: 0.00063 | Epoch (Test): 38, Loss: 0.00049 | \n",
            "Epoch (Train): 39, Loss: 0.00060 | Epoch (Test): 39, Loss: 0.00046 | \n",
            "Epoch (Train): 40, Loss: 0.00057 | Epoch (Test): 40, Loss: 0.00044 | \n",
            "Epoch (Train): 41, Loss: 0.00054 | Epoch (Test): 41, Loss: 0.00042 | \n",
            "Epoch (Train): 42, Loss: 0.00052 | Epoch (Test): 42, Loss: 0.00040 | \n",
            "Epoch (Train): 43, Loss: 0.00050 | Epoch (Test): 43, Loss: 0.00038 | \n",
            "Epoch (Train): 44, Loss: 0.00048 | Epoch (Test): 44, Loss: 0.00037 | \n",
            "Epoch (Train): 45, Loss: 0.00046 | Epoch (Test): 45, Loss: 0.00035 | \n",
            "Epoch (Train): 46, Loss: 0.00044 | Epoch (Test): 46, Loss: 0.00034 | \n",
            "Epoch (Train): 47, Loss: 0.00042 | Epoch (Test): 47, Loss: 0.00032 | \n",
            "Epoch (Train): 48, Loss: 0.00040 | Epoch (Test): 48, Loss: 0.00031 | \n",
            "Epoch (Train): 49, Loss: 0.00039 | Epoch (Test): 49, Loss: 0.00030 | \n",
            "Epoch (Train): 50, Loss: 0.00037 | Epoch (Test): 50, Loss: 0.00029 | \n",
            "Epoch (Train): 51, Loss: 0.00036 | Epoch (Test): 51, Loss: 0.00028 | \n",
            "Epoch (Train): 52, Loss: 0.00035 | Epoch (Test): 52, Loss: 0.00027 | \n",
            "Epoch (Train): 53, Loss: 0.00033 | Epoch (Test): 53, Loss: 0.00026 | \n",
            "Epoch (Train): 54, Loss: 0.00032 | Epoch (Test): 54, Loss: 0.00025 | \n",
            "Epoch (Train): 55, Loss: 0.00031 | Epoch (Test): 55, Loss: 0.00024 | \n",
            "Epoch (Train): 56, Loss: 0.00030 | Epoch (Test): 56, Loss: 0.00023 | \n",
            "Epoch (Train): 57, Loss: 0.00029 | Epoch (Test): 57, Loss: 0.00023 | \n",
            "Epoch (Train): 58, Loss: 0.00028 | Epoch (Test): 58, Loss: 0.00022 | \n",
            "Epoch (Train): 59, Loss: 0.00027 | Epoch (Test): 59, Loss: 0.00021 | \n",
            "Epoch (Train): 60, Loss: 0.00026 | Epoch (Test): 60, Loss: 0.00021 | \n",
            "Epoch (Train): 61, Loss: 0.00026 | Epoch (Test): 61, Loss: 0.00020 | \n",
            "Epoch (Train): 62, Loss: 0.00025 | Epoch (Test): 62, Loss: 0.00019 | \n",
            "Epoch (Train): 63, Loss: 0.00024 | Epoch (Test): 63, Loss: 0.00019 | \n",
            "Epoch (Train): 64, Loss: 0.00023 | Epoch (Test): 64, Loss: 0.00018 | \n",
            "Epoch (Train): 65, Loss: 0.00023 | Epoch (Test): 65, Loss: 0.00018 | \n",
            "Epoch (Train): 66, Loss: 0.00022 | Epoch (Test): 66, Loss: 0.00017 | \n",
            "Epoch (Train): 67, Loss: 0.00021 | Epoch (Test): 67, Loss: 0.00017 | \n",
            "Epoch (Train): 68, Loss: 0.00021 | Epoch (Test): 68, Loss: 0.00016 | \n",
            "Epoch (Train): 69, Loss: 0.00020 | Epoch (Test): 69, Loss: 0.00016 | \n",
            "Epoch (Train): 70, Loss: 0.00020 | Epoch (Test): 70, Loss: 0.00016 | \n",
            "Epoch (Train): 71, Loss: 0.00019 | Epoch (Test): 71, Loss: 0.00015 | \n",
            "Epoch (Train): 72, Loss: 0.00019 | Epoch (Test): 72, Loss: 0.00015 | \n",
            "Epoch (Train): 73, Loss: 0.00018 | Epoch (Test): 73, Loss: 0.00015 | \n",
            "Epoch (Train): 74, Loss: 0.00018 | Epoch (Test): 74, Loss: 0.00014 | \n",
            "Epoch (Train): 75, Loss: 0.00017 | Epoch (Test): 75, Loss: 0.00014 | \n",
            "Epoch (Train): 76, Loss: 0.00017 | Epoch (Test): 76, Loss: 0.00014 | \n",
            "Epoch (Train): 77, Loss: 0.00017 | Epoch (Test): 77, Loss: 0.00013 | \n",
            "Epoch (Train): 78, Loss: 0.00016 | Epoch (Test): 78, Loss: 0.00013 | \n",
            "Epoch (Train): 79, Loss: 0.00016 | Epoch (Test): 79, Loss: 0.00013 | \n",
            "Epoch (Train): 80, Loss: 0.00015 | Epoch (Test): 80, Loss: 0.00012 | \n",
            "Epoch (Train): 81, Loss: 0.00015 | Epoch (Test): 81, Loss: 0.00012 | \n",
            "Epoch (Train): 82, Loss: 0.00015 | Epoch (Test): 82, Loss: 0.00012 | \n",
            "Epoch (Train): 83, Loss: 0.00014 | Epoch (Test): 83, Loss: 0.00012 | \n",
            "Epoch (Train): 84, Loss: 0.00014 | Epoch (Test): 84, Loss: 0.00011 | \n",
            "Epoch (Train): 85, Loss: 0.00014 | Epoch (Test): 85, Loss: 0.00011 | \n",
            "Epoch (Train): 86, Loss: 0.00013 | Epoch (Test): 86, Loss: 0.00011 | \n",
            "Epoch (Train): 87, Loss: 0.00013 | Epoch (Test): 87, Loss: 0.00011 | \n",
            "Epoch (Train): 88, Loss: 0.00013 | Epoch (Test): 88, Loss: 0.00011 | \n",
            "Epoch (Train): 89, Loss: 0.00013 | Epoch (Test): 89, Loss: 0.00010 | \n",
            "Epoch (Train): 90, Loss: 0.00012 | Epoch (Test): 90, Loss: 0.00010 | \n",
            "Epoch (Train): 91, Loss: 0.00012 | Epoch (Test): 91, Loss: 0.00010 | \n",
            "Epoch (Train): 92, Loss: 0.00012 | Epoch (Test): 92, Loss: 0.00010 | \n",
            "Epoch (Train): 93, Loss: 0.00012 | Epoch (Test): 93, Loss: 0.00010 | \n",
            "Epoch (Train): 94, Loss: 0.00011 | Epoch (Test): 94, Loss: 0.00010 | \n",
            "Epoch (Train): 95, Loss: 0.00011 | Epoch (Test): 95, Loss: 0.00009 | \n",
            "Epoch (Train): 96, Loss: 0.00011 | Epoch (Test): 96, Loss: 0.00009 | \n",
            "Epoch (Train): 97, Loss: 0.00011 | Epoch (Test): 97, Loss: 0.00009 | \n",
            "Epoch (Train): 98, Loss: 0.00011 | Epoch (Test): 98, Loss: 0.00009 | \n",
            "Epoch (Train): 99, Loss: 0.00010 | Epoch (Test): 99, Loss: 0.00009 | \n",
            "Epoch (Train): 100, Loss: 0.00010 | Epoch (Test): 100, Loss: 0.00009 | \n",
            "CPU times: user 7min 15s, sys: 1min 13s, total: 8min 29s\n",
            "Wall time: 5min 35s\n"
          ]
        }
      ],
      "source": [
        "%%time\n",
        "state, history = fit(state,\n",
        "                     train_images, train_images,  # 入力と出力は同一\n",
        "                     test_images, test_images,    # 入力と出力は同一\n",
        "                     epochs=100,\n",
        "                     batch_size=8192)"
      ]
    },
    {
      "cell_type": "code",
      "execution_count": 8,
      "metadata": {
        "colab": {
          "base_uri": "https://localhost:8080/",
          "height": 388
        },
        "id": "eP9ieMSndRaT",
        "outputId": "7e00463f-0521-41b6-d947-90966c84e168"
      },
      "outputs": [
        {
          "output_type": "display_data",
          "data": {
            "text/plain": [
              "<Figure size 400x400 with 1 Axes>"
            ],
            "image/png": "[encoded data removed]"
          },
          "metadata": {}
        }
      ],
      "source": [
        "fig, ax = plt.subplots(1, 1, figsize=(4, 4))\n",
        "ax.plot(history['loss_train'], label='loss_train')\n",
        "ax.plot(history['loss_test'], label='loss_test')\n",
        "ax.set_xlabel('epoch')\n",
        "ax.set_ylabel('loss')\n",
        "ax.legend()\n",
        "plt.show()"
      ]
    },
    {
      "cell_type": "markdown",
      "source": [
        "## 性能確認"
      ],
      "metadata": {
        "id": "oEdphAK9qbiS"
      }
    },
    {
      "cell_type": "code",
      "source": [
        "batch_size = 10\n",
        "z = np.random.randn(batch_size, 20)\n",
        "x = Decoder(200, 784).apply({'params': state.params['Decoder_0']}, z)\n",
        "x = x.reshape(batch_size, 28, 28)\n",
        "\n",
        "fig, ax = plt.subplots(1, batch_size, figsize=(10, 10))\n",
        "for i in range(batch_size):\n",
        "    ax[i].imshow(x[i, :, :], vmin=0, vmax=1, cmap=plt.cm.gray_r)\n",
        "    ax[i].axis('off')\n",
        "plt.show()"
      ],
      "metadata": {
        "colab": {
          "base_uri": "https://localhost:8080/",
          "height": 102
        },
        "id": "cg5dFy_XkNxC",
        "outputId": "cdfc2f98-c311-4eb5-bf4c-7dacd0d2ed04"
      },
      "execution_count": 9,
      "outputs": [
        {
          "output_type": "display_data",
          "data": {
            "text/plain": [
              "<Figure size 1000x1000 with 10 Axes>"
            ],
            "image/png": "[encoded data removed]"
          },
          "metadata": {}
        }
      ]
    },
    {
      "cell_type": "code",
      "source": [
        "x_hat, _, _ = state.apply_fn({'params': state.params}, train_images[0])\n",
        "fig, ax = plt.subplots(1, 2)\n",
        "ax[0].imshow(train_images[0].reshape(28, 28), vmin=0, vmax=1, cmap=plt.cm.gray_r)\n",
        "ax[1].imshow(x_hat.reshape(28, 28), vmin=0, vmax=1, cmap=plt.cm.gray_r)\n",
        "for a in ax:\n",
        "    a.axis('off')\n",
        "plt.show()"
      ],
      "metadata": {
        "colab": {
          "base_uri": "https://localhost:8080/",
          "height": 262
        },
        "id": "nSQUJ2L7kc2P",
        "outputId": "0c75344f-d102-49d4-ddb2-6a4a6a930243"
      },
      "execution_count": 10,
      "outputs": [
        {
          "output_type": "display_data",
          "data": {
            "text/plain": [
              "<Figure size 640x480 with 2 Axes>"
            ],
            "image/png": "[encoded data removed]"
          },
          "metadata": {}
        }
      ]
    },
    {
      "cell_type": "markdown",
      "source": [
        "損失関数のプロットから学習はある程度終えているように思えるが、画像の再現がうまくできていない。何となく数字が浮かび上がっているようにも見えるから学習自体は進んでいるはず。\n",
        "\n",
        "%TODO(omama): 修正案を考える"
      ],
      "metadata": {
        "id": "JG5UaO3gqfwA"
      }
    }
  ],
  "metadata": {
    "accelerator": "GPU",
    "colab": {
      "collapsed_sections": [
        "wb6-_eOja5zU",
        "lQKQ7phMJ6PD"
      ],
      "gpuType": "T4",
      "toc_visible": true,
      "provenance": [],
      "authorship_tag": "ABX9TyNiu2DPwlQlZ+qy+/fckHIC",
      "include_colab_link": true
    },
    "kernelspec": {
      "display_name": "Python 3",
      "name": "python3"
    },
    "language_info": {
      "name": "python"
    }
  },
  "nbformat": 4,
  "nbformat_minor": 0
}