{
  "nbformat": 4,
  "nbformat_minor": 0,
  "metadata": {
    "colab": {
      "provenance": [],
      "gpuType": "T4",
      "authorship_tag": "ABX9TyPRRG/j08TdD1Dc0smMeHJV"
    },
    "kernelspec": {
      "name": "python3",
      "display_name": "Python 3"
    },
    "language_info": {
      "name": "python"
    },
    "accelerator": "GPU"
  },
  "cells": [
    {
      "cell_type": "markdown",
      "source": [
        "# 変分オートエンコーダー（VAE）\n",
        "\n",
        "ここでは jax/flax を用いて変分オートエンコーダー（VAE）を作成する。"
      ],
      "metadata": {
        "id": "qYFkNd0_an7c"
      }
    },
    {
      "cell_type": "markdown",
      "source": [
        "## Imports"
      ],
      "metadata": {
        "id": "wb6-_eOja5zU"
      }
    },
    {
      "cell_type": "code",
      "execution_count": 10,
      "metadata": {
        "id": "driBrFrJaIPv"
      },
      "outputs": [],
      "source": [
        "from pprint import pprint\n",
        "\n",
        "import numpy as np\n",
        "\n",
        "import jax\n",
        "import flax\n",
        "import optax\n",
        "from jax import numpy as jnp\n",
        "from jax import random\n",
        "from flax import linen as nn"
      ]
    },
    {
      "cell_type": "code",
      "source": [
        "#@title Model Definition\n",
        "\n",
        "class Encoder(nn.Module):\n",
        "    hidden_dim: int = 512\n",
        "    latent_dim: int = 32\n",
        "\n",
        "    @nn.compact\n",
        "    def __call__(self, x):\n",
        "        x = nn.Dense(self.hidden_dim, name='Dense1')(x)\n",
        "        x = nn.relu(x)\n",
        "        mu = nn.Dense(self.latent_dim, name='Dense_mu')(x)\n",
        "        logvar = nn.Dense(self.latent_dim, name='Dense_logvar')(x)\n",
        "        sigma = jnp.exp(0.5 * logvar)\n",
        "        return mu, sigma\n",
        "\n",
        "\n",
        "class Decoder(nn.Module):\n",
        "    hidden_dim: int = 512\n",
        "    output_dim: int = 32\n",
        "\n",
        "    @nn.compact\n",
        "    def __call__(self, x):\n",
        "        x = nn.Dense(self.hidden_dim, name='Dense1')(x)\n",
        "        x = nn.relu(x)\n",
        "        x = nn.Dense(self.output_dim, name='Dense2')(x)\n",
        "        x = nn.sigmoid(x)\n",
        "        return x\n",
        "\n",
        "\n",
        "def reparameterize(mu, sigma):\n",
        "    eps = np.random.randn(*sigma.shape)\n",
        "    x = mu + eps * sigma\n",
        "    return x\n",
        "\n",
        "\n",
        "class VAE(nn.Module):\n",
        "    @nn.compact\n",
        "    def __call__(self, x):\n",
        "        mu, sigma = Encoder()(x)\n",
        "        x = reparameterize(mu, sigma)\n",
        "        x = Decoder()(x)\n",
        "        return x"
      ],
      "metadata": {
        "id": "y6TMRlUZbYEf"
      },
      "execution_count": 25,
      "outputs": []
    },
    {
      "cell_type": "code",
      "source": [
        "model = VAE()\n",
        "\n",
        "key1, key2 = random.split(random.key(0))\n",
        "x = random.normal(key1, (10,)) # Dummy input data\n",
        "params = model.init(key2, x)   # Initialization call\n",
        "pprint(jax.tree_util.tree_map(lambda x: x.shape, params))  # Checking output shapes"
      ],
      "metadata": {
        "colab": {
          "base_uri": "https://localhost:8080/"
        },
        "id": "OI6T9n0ndkW-",
        "outputId": "e5815ae6-f971-4776-8f04-bb0aaeb3792c"
      },
      "execution_count": 26,
      "outputs": [
        {
          "output_type": "stream",
          "name": "stdout",
          "text": [
            "{'params': {'Decoder_0': {'Dense1': {'bias': (512,), 'kernel': (32, 512)},\n",
            "                          'Dense2': {'bias': (32,), 'kernel': (512, 32)}},\n",
            "            'Encoder_0': {'Dense1': {'bias': (512,), 'kernel': (10, 512)},\n",
            "                          'Dense_logvar': {'bias': (32,), 'kernel': (512, 32)},\n",
            "                          'Dense_mu': {'bias': (32,), 'kernel': (512, 32)}}}}\n"
          ]
        }
      ]
    },
    {
      "cell_type": "code",
      "source": [
        "output = model.apply(params, x)\n",
        "jax.tree_util.tree_map(jnp.shape, output)"
      ],
      "metadata": {
        "colab": {
          "base_uri": "https://localhost:8080/"
        },
        "id": "IMv6X_0YfZFx",
        "outputId": "60e9e9d2-3d64-4a52-f7bb-15845880e7b4"
      },
      "execution_count": 27,
      "outputs": [
        {
          "output_type": "execute_result",
          "data": {
            "text/plain": [
              "(32,)"
            ]
          },
          "metadata": {},
          "execution_count": 27
        }
      ]
    },
    {
      "cell_type": "code",
      "source": [],
      "metadata": {
        "id": "I7pCBxmPoZAt"
      },
      "execution_count": 24,
      "outputs": []
    }
  ]
}